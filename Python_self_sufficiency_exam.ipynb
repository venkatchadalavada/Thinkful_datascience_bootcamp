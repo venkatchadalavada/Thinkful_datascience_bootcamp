{
  "nbformat": 4,
  "nbformat_minor": 0,
  "metadata": {
    "colab": {
      "name": "Python self-sufficiency exam.ipynb",
      "provenance": []
    },
    "kernelspec": {
      "name": "python3",
      "display_name": "Python 3"
    }
  },
  "cells": [
    {
      "cell_type": "code",
      "metadata": {
        "id": "bDeJ5GR7T_MK",
        "colab_type": "code",
        "outputId": "5a73460e-cfea-4368-a177-dd6ec510ad04",
        "colab": {
          "base_uri": "https://localhost:8080/",
          "height": 34
        }
      },
      "source": [
        "# Question 1\n",
        "# Create a function that reverses a string. For example, given the string \"forward\", your function\n",
        "# should return \"drawof\". Assume all inputs are strings\n",
        "\n",
        "def reverse(string):\n",
        "  string = string[::-1]\n",
        "  return string\n",
        "\n",
        "s = \"forward\"\n",
        "\n",
        "print(reverse(s))"
      ],
      "execution_count": 0,
      "outputs": [
        {
          "output_type": "stream",
          "text": [
            "drawrof\n"
          ],
          "name": "stdout"
        }
      ]
    },
    {
      "cell_type": "code",
      "metadata": {
        "id": "ty8mGiiCwRHn",
        "colab_type": "code",
        "colab": {}
      },
      "source": [
        ""
      ],
      "execution_count": 0,
      "outputs": []
    },
    {
      "cell_type": "code",
      "metadata": {
        "id": "FMTGu3rIVc2c",
        "colab_type": "code",
        "colab": {}
      },
      "source": [
        "# Question 2\n",
        "# Complete the function below that can be used to calculate and return the posterior probability of\n",
        "# an event A, given the known outcome of event B using Bayes Theorem:\n",
        "\n",
        "def bayes(a, b_given_a, b_given_not_a):\n",
        "\n",
        "    \"\"\"\n",
        "    Calculates P(A | B) using bayes theorem.\n",
        "\n",
        "    Args:\n",
        "        a: P(A)\n",
        "        b_given_a: P(B | A)\n",
        "        b_given_not_a: P(B | ~A)\n",
        "\n",
        "    Returns:\n",
        "        P(A | B)\n",
        "    \"\"\"\n",
        "    P(A | B) = [(b_given_not_a) * (a)] / (b)\n"
      ],
      "execution_count": 0,
      "outputs": []
    },
    {
      "cell_type": "code",
      "metadata": {
        "id": "m3lDXXiIrQAO",
        "colab_type": "code",
        "colab": {
          "base_uri": "https://localhost:8080/",
          "height": 34
        },
        "outputId": "d1648ef4-f6a1-4e7b-e079-6f43ebde2667"
      },
      "source": [
        "# calculate P(A|B) given P(A), P(B|A), P(B|not A)\n",
        "def bayes(a, b_given_a, b_given_not_a):\n",
        "\t# calculate P(not A)\n",
        "\tnot_a = 1 - a\n",
        "\t# calculate P(B)\n",
        "\tb = b_given_a * a + b_given_not_a * not_a\n",
        "\t# calculate P(A|B)\n",
        "\ta_given_b = (b_given_a * a) / b\n",
        "\treturn a_given_b\n",
        " \n",
        "# put in an example\n",
        "\n",
        "# P(A)\n",
        "a = 0.0002\n",
        "# P(B|A)\n",
        "b_given_a = 0.85\n",
        "# P(B|not A)\n",
        "b_given_not_a = 0.05\n",
        "# calculate P(A|B)\n",
        "result = bayes(a, b_given_a, b_given_not_a)\n",
        "# summarize\n",
        "print('P(A|B) = %.3f%%' % (result * 100))"
      ],
      "execution_count": 3,
      "outputs": [
        {
          "output_type": "stream",
          "text": [
            "P(A|B) = 0.339%\n"
          ],
          "name": "stdout"
        }
      ]
    },
    {
      "cell_type": "code",
      "metadata": {
        "id": "J4hUnxM2wR9N",
        "colab_type": "code",
        "colab": {}
      },
      "source": [
        ""
      ],
      "execution_count": 0,
      "outputs": []
    },
    {
      "cell_type": "code",
      "metadata": {
        "id": "HIL8eU4kVc4p",
        "colab_type": "code",
        "colab": {}
      },
      "source": [
        "# Question 3\n",
        "# Analyze the teams data set from the Lahman baseball records. This dataset contains season\n",
        "# statistics for each Major League Baseball team.\n",
        "\n",
        "# A. For all records since 1995, plot histograms for the following variables.\n",
        "# Which distribution do they appear to follow, given their meaning?\n",
        "\n",
        "!pip install seaborn==0.9.0"
      ],
      "execution_count": 0,
      "outputs": []
    },
    {
      "cell_type": "code",
      "metadata": {
        "id": "hKqDCZi_ZsD5",
        "colab_type": "code",
        "colab": {}
      },
      "source": [
        "import pandas as pd\n",
        "import seaborn as sns \n",
        "sns.set()\n",
        "\n",
        "players_df = pd.read_csv(\"lahman-teams.csv\")"
      ],
      "execution_count": 0,
      "outputs": []
    },
    {
      "cell_type": "code",
      "metadata": {
        "id": "PEoPbqyYZtma",
        "colab_type": "code",
        "colab": {}
      },
      "source": [
        "players_df.head()"
      ],
      "execution_count": 0,
      "outputs": []
    },
    {
      "cell_type": "code",
      "metadata": {
        "id": "BaH_wMMJZto_",
        "colab_type": "code",
        "colab": {}
      },
      "source": [
        "players_df.info()"
      ],
      "execution_count": 0,
      "outputs": []
    },
    {
      "cell_type": "code",
      "metadata": {
        "id": "0F6cmyNaiavk",
        "colab_type": "code",
        "colab": {}
      },
      "source": [
        "null_rows = players_df[players_df.isnull().any(axis=1)]\n",
        "null_rows.head()"
      ],
      "execution_count": 0,
      "outputs": []
    },
    {
      "cell_type": "code",
      "metadata": {
        "id": "vma8ZKOEiayQ",
        "colab_type": "code",
        "colab": {}
      },
      "source": [
        "null_rows.info()"
      ],
      "execution_count": 0,
      "outputs": []
    },
    {
      "cell_type": "code",
      "metadata": {
        "id": "SlttScABia0U",
        "colab_type": "code",
        "colab": {}
      },
      "source": [
        "zero_filled = null_rows.fillna(0.0)\n",
        "zero_filled.head()"
      ],
      "execution_count": 0,
      "outputs": []
    },
    {
      "cell_type": "code",
      "metadata": {
        "id": "fMSbFxQvjSsy",
        "colab_type": "code",
        "colab": {}
      },
      "source": [
        "players_df_filtered = players_df[players_df[\"yearID\"] > 1994] #filter the dataframe so that it shows only the data from year 1995 to 2015"
      ],
      "execution_count": 0,
      "outputs": []
    },
    {
      "cell_type": "code",
      "metadata": {
        "id": "0pWyDcHKZtq4",
        "colab_type": "code",
        "outputId": "3f1f709f-f4b6-413d-b1b3-9ab0fd46d757",
        "colab": {
          "base_uri": "https://localhost:8080/",
          "height": 297
        }
      },
      "source": [
        "players_df_filtered[['SB', 'W', 'ERA']].describe()"
      ],
      "execution_count": 0,
      "outputs": [
        {
          "output_type": "execute_result",
          "data": {
            "text/html": [
              "<div>\n",
              "<style scoped>\n",
              "    .dataframe tbody tr th:only-of-type {\n",
              "        vertical-align: middle;\n",
              "    }\n",
              "\n",
              "    .dataframe tbody tr th {\n",
              "        vertical-align: top;\n",
              "    }\n",
              "\n",
              "    .dataframe thead th {\n",
              "        text-align: right;\n",
              "    }\n",
              "</style>\n",
              "<table border=\"1\" class=\"dataframe\">\n",
              "  <thead>\n",
              "    <tr style=\"text-align: right;\">\n",
              "      <th></th>\n",
              "      <th>SB</th>\n",
              "      <th>W</th>\n",
              "      <th>ERA</th>\n",
              "    </tr>\n",
              "  </thead>\n",
              "  <tbody>\n",
              "    <tr>\n",
              "      <th>count</th>\n",
              "      <td>624.000000</td>\n",
              "      <td>624.000000</td>\n",
              "      <td>624.000000</td>\n",
              "    </tr>\n",
              "    <tr>\n",
              "      <th>mean</th>\n",
              "      <td>98.673077</td>\n",
              "      <td>80.560897</td>\n",
              "      <td>4.301603</td>\n",
              "    </tr>\n",
              "    <tr>\n",
              "      <th>std</th>\n",
              "      <td>31.800727</td>\n",
              "      <td>11.505856</td>\n",
              "      <td>0.554768</td>\n",
              "    </tr>\n",
              "    <tr>\n",
              "      <th>min</th>\n",
              "      <td>31.000000</td>\n",
              "      <td>43.000000</td>\n",
              "      <td>2.940000</td>\n",
              "    </tr>\n",
              "    <tr>\n",
              "      <th>25%</th>\n",
              "      <td>73.000000</td>\n",
              "      <td>72.000000</td>\n",
              "      <td>3.907500</td>\n",
              "    </tr>\n",
              "    <tr>\n",
              "      <th>50%</th>\n",
              "      <td>96.000000</td>\n",
              "      <td>80.000000</td>\n",
              "      <td>4.280000</td>\n",
              "    </tr>\n",
              "    <tr>\n",
              "      <th>75%</th>\n",
              "      <td>119.000000</td>\n",
              "      <td>90.000000</td>\n",
              "      <td>4.690000</td>\n",
              "    </tr>\n",
              "    <tr>\n",
              "      <th>max</th>\n",
              "      <td>201.000000</td>\n",
              "      <td>116.000000</td>\n",
              "      <td>6.380000</td>\n",
              "    </tr>\n",
              "  </tbody>\n",
              "</table>\n",
              "</div>"
            ],
            "text/plain": [
              "               SB           W         ERA\n",
              "count  624.000000  624.000000  624.000000\n",
              "mean    98.673077   80.560897    4.301603\n",
              "std     31.800727   11.505856    0.554768\n",
              "min     31.000000   43.000000    2.940000\n",
              "25%     73.000000   72.000000    3.907500\n",
              "50%     96.000000   80.000000    4.280000\n",
              "75%    119.000000   90.000000    4.690000\n",
              "max    201.000000  116.000000    6.380000"
            ]
          },
          "metadata": {
            "tags": []
          },
          "execution_count": 69
        }
      ]
    },
    {
      "cell_type": "code",
      "metadata": {
        "id": "gsGkxRzYp08u",
        "colab_type": "code",
        "outputId": "525dbddd-5096-49ad-a87d-f4d49f2e1e52",
        "colab": {
          "base_uri": "https://localhost:8080/",
          "height": 285
        }
      },
      "source": [
        "ax = sns.distplot(players_df_filtered['SB']) # This histogram seems to show Gamma Distribution"
      ],
      "execution_count": 0,
      "outputs": [
        {
          "output_type": "display_data",
          "data": {
            "image/png": "[encoded data removed]",
            "text/plain": [
              "<Figure size 432x288 with 1 Axes>"
            ]
          },
          "metadata": {
            "tags": []
          }
        }
      ]
    },
    {
      "cell_type": "code",
      "metadata": {
        "id": "JN2Jf1qucHSP",
        "colab_type": "code",
        "outputId": "7119b4d7-d62e-4154-dad0-0f5663b9e51d",
        "colab": {
          "base_uri": "https://localhost:8080/",
          "height": 285
        }
      },
      "source": [
        "ax = sns.distplot(players_df_filtered['W']) # This histogram seems to show Binomial Distribution"
      ],
      "execution_count": 0,
      "outputs": [
        {
          "output_type": "display_data",
          "data": {
            "image/png": "[encoded data removed]",
            "text/plain": [
              "<Figure size 432x288 with 1 Axes>"
            ]
          },
          "metadata": {
            "tags": []
          }
        }
      ]
    },
    {
      "cell_type": "code",
      "metadata": {
        "id": "SF6aEy9oprg5",
        "colab_type": "code",
        "outputId": "b7a0551b-31b6-469c-f833-688bba2c229d",
        "colab": {
          "base_uri": "https://localhost:8080/",
          "height": 285
        }
      },
      "source": [
        "ax = sns.distplot(players_df_filtered['ERA']) # This histogram seems to show Conditional Distribution"
      ],
      "execution_count": 0,
      "outputs": [
        {
          "output_type": "display_data",
          "data": {
            "image/png": "[encoded data removed]",
            "text/plain": [
              "<Figure size 432x288 with 1 Axes>"
            ]
          },
          "metadata": {
            "tags": []
          }
        }
      ]
    },
    {
      "cell_type": "code",
      "metadata": {
        "id": "5z5qbG8CcHT2",
        "colab_type": "code",
        "colab": {}
      },
      "source": [
        "# B. Conduct some further exploratory data analysis on this dataset.\n",
        "# Consider qualities like distributions, correlations and trends over time.\n",
        "# Try to find something interesting to say about the data, and use visualizations to support your argument.\n",
        "\n",
        "# I've used 'attendance' as a variable between year 1990 and 2000\n",
        "\n",
        "import pandas as pd\n",
        "from scipy import stats\n",
        "\n",
        "projects_df = pd.read_csv(\"lahman-teams.csv\")\n"
      ],
      "execution_count": 0,
      "outputs": []
    },
    {
      "cell_type": "code",
      "metadata": {
        "id": "zMFVBy_su0TM",
        "colab_type": "code",
        "outputId": "0cd51106-aae6-4d2f-8bd5-05c2721c9e89",
        "colab": {
          "base_uri": "https://localhost:8080/",
          "height": 918
        }
      },
      "source": [
        "players_1990 = players_df.iloc[(players_df['yearID'] == 1990).values]\n",
        "players_1990.info()"
      ],
      "execution_count": 0,
      "outputs": [
        {
          "output_type": "stream",
          "text": [
            "<class 'pandas.core.frame.DataFrame'>\n",
            "Int64Index: 26 entries, 2047 to 2072\n",
            "Data columns (total 48 columns):\n",
            "yearID            26 non-null int64\n",
            "lgID              26 non-null object\n",
            "teamID            26 non-null object\n",
            "franchID          26 non-null object\n",
            "divID             26 non-null object\n",
            "Rank              26 non-null int64\n",
            "G                 26 non-null int64\n",
            "Ghome             26 non-null float64\n",
            "W                 26 non-null int64\n",
            "L                 26 non-null int64\n",
            "DivWin            26 non-null object\n",
            "WCWin             0 non-null object\n",
            "LgWin             26 non-null object\n",
            "WSWin             26 non-null object\n",
            "R                 26 non-null int64\n",
            "AB                26 non-null int64\n",
            "H                 26 non-null int64\n",
            "2B                26 non-null int64\n",
            "3B                26 non-null int64\n",
            "HR                26 non-null int64\n",
            "BB                26 non-null int64\n",
            "SO                26 non-null float64\n",
            "SB                26 non-null float64\n",
            "CS                26 non-null float64\n",
            "HBP               0 non-null float64\n",
            "SF                0 non-null float64\n",
            "RA                26 non-null int64\n",
            "ER                26 non-null int64\n",
            "ERA               26 non-null float64\n",
            "CG                26 non-null int64\n",
            "SHO               26 non-null int64\n",
            "SV                26 non-null int64\n",
            "IPouts            26 non-null int64\n",
            "HA                26 non-null int64\n",
            "HRA               26 non-null int64\n",
            "BBA               26 non-null int64\n",
            "SOA               26 non-null int64\n",
            "E                 26 non-null int64\n",
            "DP                26 non-null float64\n",
            "FP                26 non-null float64\n",
            "name              26 non-null object\n",
            "park              26 non-null object\n",
            "attendance        26 non-null float64\n",
            "BPF               26 non-null int64\n",
            "PPF               26 non-null int64\n",
            "teamIDBR          26 non-null object\n",
            "teamIDlahman45    26 non-null object\n",
            "teamIDretro       26 non-null object\n",
            "dtypes: float64(10), int64(25), object(13)\n",
            "memory usage: 10.0+ KB\n"
          ],
          "name": "stdout"
        }
      ]
    },
    {
      "cell_type": "code",
      "metadata": {
        "id": "3mcTyq3VcHWO",
        "colab_type": "code",
        "outputId": "4ec89fd1-c792-4277-ab83-875d6cbc0185",
        "colab": {
          "base_uri": "https://localhost:8080/",
          "height": 918
        }
      },
      "source": [
        "players_2000 = players_df.iloc[(players_df['yearID'] == 2000).values]\n",
        "players_2000.info()"
      ],
      "execution_count": 0,
      "outputs": [
        {
          "output_type": "stream",
          "text": [
            "<class 'pandas.core.frame.DataFrame'>\n",
            "Int64Index: 30 entries, 2325 to 2354\n",
            "Data columns (total 48 columns):\n",
            "yearID            30 non-null int64\n",
            "lgID              30 non-null object\n",
            "teamID            30 non-null object\n",
            "franchID          30 non-null object\n",
            "divID             30 non-null object\n",
            "Rank              30 non-null int64\n",
            "G                 30 non-null int64\n",
            "Ghome             30 non-null float64\n",
            "W                 30 non-null int64\n",
            "L                 30 non-null int64\n",
            "DivWin            30 non-null object\n",
            "WCWin             30 non-null object\n",
            "LgWin             30 non-null object\n",
            "WSWin             30 non-null object\n",
            "R                 30 non-null int64\n",
            "AB                30 non-null int64\n",
            "H                 30 non-null int64\n",
            "2B                30 non-null int64\n",
            "3B                30 non-null int64\n",
            "HR                30 non-null int64\n",
            "BB                30 non-null int64\n",
            "SO                30 non-null float64\n",
            "SB                30 non-null float64\n",
            "CS                30 non-null float64\n",
            "HBP               30 non-null float64\n",
            "SF                30 non-null float64\n",
            "RA                30 non-null int64\n",
            "ER                30 non-null int64\n",
            "ERA               30 non-null float64\n",
            "CG                30 non-null int64\n",
            "SHO               30 non-null int64\n",
            "SV                30 non-null int64\n",
            "IPouts            30 non-null int64\n",
            "HA                30 non-null int64\n",
            "HRA               30 non-null int64\n",
            "BBA               30 non-null int64\n",
            "SOA               30 non-null int64\n",
            "E                 30 non-null int64\n",
            "DP                30 non-null float64\n",
            "FP                30 non-null float64\n",
            "name              30 non-null object\n",
            "park              30 non-null object\n",
            "attendance        30 non-null float64\n",
            "BPF               30 non-null int64\n",
            "PPF               30 non-null int64\n",
            "teamIDBR          30 non-null object\n",
            "teamIDlahman45    30 non-null object\n",
            "teamIDretro       30 non-null object\n",
            "dtypes: float64(10), int64(25), object(13)\n",
            "memory usage: 11.5+ KB\n"
          ],
          "name": "stdout"
        }
      ]
    },
    {
      "cell_type": "code",
      "metadata": {
        "id": "Donh_zB0cHYo",
        "colab_type": "code",
        "outputId": "2a7fe005-11b0-4a25-b6d2-a5e876a8091c",
        "colab": {
          "base_uri": "https://localhost:8080/",
          "height": 34
        }
      },
      "source": [
        "stats.ttest_ind(players_1990['attendance'], players_2000['attendance'])"
      ],
      "execution_count": 0,
      "outputs": [
        {
          "output_type": "execute_result",
          "data": {
            "text/plain": [
              "Ttest_indResult(statistic=-1.4092074692982846, pvalue=0.16450674386032857)"
            ]
          },
          "metadata": {
            "tags": []
          },
          "execution_count": 41
        }
      ]
    },
    {
      "cell_type": "code",
      "metadata": {
        "id": "mOAAK1M7cHPj",
        "colab_type": "code",
        "colab": {}
      },
      "source": [
        "# The p-value from the t-test shows it being extremely small, which shows a significant difference of attendance\n",
        "# between year 1990 and 2000 (baseball attedance surely rose from 1990 to 2000)"
      ],
      "execution_count": 0,
      "outputs": []
    },
    {
      "cell_type": "code",
      "metadata": {
        "id": "ol2yYyb_ZttY",
        "colab_type": "code",
        "colab": {}
      },
      "source": [
        ""
      ],
      "execution_count": 0,
      "outputs": []
    },
    {
      "cell_type": "code",
      "metadata": {
        "id": "g5kkNiRDVc79",
        "colab_type": "code",
        "colab": {}
      },
      "source": [
        "# Question 4\n",
        "# Choose any two of the variables from 3. Draw 1,000 samples, taking the mean of 100 observations each time.\n",
        "# Plot the frequencies of the sample means. What distribution does this appear to follow?\n",
        "# Hint: df['col'].sample(n = 50) will draw 50 random observations from df['col']\n",
        "\n",
        "import numpy as np\n",
        "import pandas as pd\n",
        "import matplotlib.pyplot as plt\n",
        "%matplotlib inline\n",
        "\n",
        "players_df = pd.read_csv(\"lahman-teams.csv\")"
      ],
      "execution_count": 0,
      "outputs": []
    },
    {
      "cell_type": "code",
      "metadata": {
        "id": "sTO4ZxWOwTQB",
        "colab_type": "code",
        "outputId": "30da09a9-6a76-4033-c0bc-1dfa1d1876ed",
        "colab": {
          "base_uri": "https://localhost:8080/",
          "height": 268
        }
      },
      "source": [
        "# Making a standard normally distributed variable with 1000 observations, a mean of 0, and \n",
        "# a standard deviation of 1, and putting it in a data frame.\n",
        "mean = 100\n",
        "sd = 1\n",
        "n = 1000\n",
        "\n",
        "# Create a DataFrame of one column ERA,\n",
        "# containing random numbers following normal distribution\n",
        "\n",
        "players_df['SB'] = pd.DataFrame({'SB': np.random.normal(mean, sd, n)})\n",
        "\n",
        "# Plotting the variables in the data frame (here, just the variable \"ERA\") as a histogram.\n",
        "players_df['SB'].hist()\n",
        "# Inline printing the histogram\n",
        "plt.show()"
      ],
      "execution_count": 0,
      "outputs": [
        {
          "output_type": "display_data",
          "data": {
            "image/png": "[encoded data removed]",
            "text/plain": [
              "<Figure size 432x288 with 1 Axes>"
            ]
          },
          "metadata": {
            "tags": []
          }
        }
      ]
    }
  ]
}